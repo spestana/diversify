{
 "cells": [
  {
   "cell_type": "code",
   "execution_count": 33,
   "metadata": {},
   "outputs": [],
   "source": [
    "import entrofy.core\n",
    "import pandas as pd\n",
    "import numpy as np\n",
    "import seaborn as sns"
   ]
  },
  {
   "cell_type": "code",
   "execution_count": 34,
   "metadata": {},
   "outputs": [],
   "source": [
    "# add a link to the diversity workflow diagram"
   ]
  },
  {
   "cell_type": "code",
   "execution_count": 35,
   "metadata": {},
   "outputs": [],
   "source": [
    "cohort_all = pd.read_csv(\"/Users/maddy/Downloads/WHW/entrofy/data/cohort_all.csv\")\n",
    "cohort_all = cohort_all.drop(['Unnamed: 0'], axis=1)"
   ]
  },
  {
   "cell_type": "code",
   "execution_count": 36,
   "metadata": {},
   "outputs": [
    {
     "data": {
      "text/plain": [
       "Index(['ID', 'USA', 'atUW', 'position', 'gender', 'lgbtq', 'nonbin_trans',\n",
       "       'race_ethnic', 'color', 'language', 'met_climate', 'snow_ice',\n",
       "       'alpine_forest', 'riv_streams', 'lake_wetlands', 'geo_sediment',\n",
       "       'quality_waste', 'extreme_event_disaster', 'urban',\n",
       "       'datasci_model_software', 'fish_aquatic', 'health', 'hydraulics',\n",
       "       'no_exp_yet', 'seed', 'motivation'],\n",
       "      dtype='object')"
      ]
     },
     "execution_count": 36,
     "metadata": {},
     "output_type": "execute_result"
    }
   ],
   "source": [
    "cohort_all.columns"
   ]
  },
  {
   "cell_type": "markdown",
   "metadata": {},
   "source": [
    "Assign weights and datatypes for entrofy"
   ]
  },
  {
   "cell_type": "code",
   "execution_count": 37,
   "metadata": {},
   "outputs": [],
   "source": [
    "weights = {\n",
    "           'USA': 1.0,\n",
    "           'atUW': 1.0,\n",
    "           'position': 1.0,\n",
    "           'gender' : 1.0,\n",
    "           'lgbtq': 1.0,\n",
    "           'nonbin_trans': 1.0,\n",
    "           'color': 1.0,\n",
    "           'language': 1.0,\n",
    "           'motivation':10.0,           \n",
    "           'met_climate': 1.0,\n",
    "           'snow_ice': 1.0,\n",
    "           'alpine_forest': 1.0,\n",
    "           'riv_streams': 1.0,\n",
    "           'lake_wetlands': 1.0,\n",
    "           'geo_sediment': 1.0,\n",
    "           'quality_waste': 1.0,\n",
    "           'extreme_event_disaster': 1.0,\n",
    "           'urban': 1.0,\n",
    "           'datasci_model_software': 1.0,\n",
    "           'fish_aquatic': 1.0,\n",
    "           'health': 1.0,\n",
    "           'hydraulics': 1.0,\n",
    "           'no_exp_yet': 1.0   \n",
    "          }\n",
    "datatypes = {\n",
    "          'USA': 'categorical',\n",
    "          'atUW': 'categorical',\n",
    "          'position': 'categorical',\n",
    "          'gender' : 'categorical',\n",
    "          'lgbtq': 'categorical',\n",
    "          'nonbin_trans': 'categorical',\n",
    "          'color': 'categorical',\n",
    "          'language': 'categorical',\n",
    "          'motivation': 'continuous',\n",
    "          'met_climate': 'categorical',\n",
    "          'snow_ice': 'categorical',\n",
    "          'alpine_forest': 'categorical',\n",
    "          'riv_streams': 'categorical',\n",
    "          'lake_wetlands': 'categorical',\n",
    "          'geo_sediment': 'categorical',\n",
    "          'quality_waste': 'categorical',\n",
    "          'extreme_event_disaster': 'categorical',\n",
    "          'urban': 'categorical',\n",
    "          'datasci_model_software': 'categorical',\n",
    "          'fish_aquatic': 'categorical',\n",
    "          'health': 'categorical',\n",
    "          'hydraulics': 'categorical',\n",
    "          'no_exp_yet': 'categorical'\n",
    "}"
   ]
  },
  {
   "cell_type": "code",
   "execution_count": 38,
   "metadata": {},
   "outputs": [],
   "source": [
    "mappers = entrofy.core.construct_mappers(cohort_all, weights, datatypes)"
   ]
  },
  {
   "cell_type": "code",
   "execution_count": 43,
   "metadata": {},
   "outputs": [
    {
     "data": {
      "image/png": "[encoded data removed]",
      "text/plain": [
       "<Figure size 576x432 with 1 Axes>"
      ]
     },
     "metadata": {
      "needs_background": "light"
     },
     "output_type": "display_data"
    }
   ],
   "source": [
    "def make_plot_categorical(column_str):\n",
    "    ax = entrofy.plotting.plot_distribution(cohort_all[cohort_all['seed'] == 0], column_str,\n",
    "                                        xtype=\"categorical\",\n",
    "                                        cmap=\"YlGnBu\", ax=None)\n",
    "    ax.set_xticklabels(ax.xaxis.get_majorticklabels(), rotation='vertical')\n",
    "\n",
    "def make_plot_continuous(column_str):\n",
    "    ax = entrofy.plotting.plot_distribution(cohort_all[cohort_all['seed'] == 0], column_str,\n",
    "                                        xtype=\"continuous\",\n",
    "                                        cmap=\"YlGnBu\", ax=None)\n",
    "\n",
    "    # create only for participants\n",
    "    # add details of rubric used\n",
    "    # describe the essay process here\n",
    "make_plot_continuous('motivation')# only participants"
   ]
  },
  {
   "cell_type": "markdown",
   "metadata": {},
   "source": [
    "Create a continuous mapper for the 'motivation' column"
   ]
  },
  {
   "cell_type": "code",
   "execution_count": 7,
   "metadata": {},
   "outputs": [],
   "source": [
    "#mappers\n",
    "\n",
    "m_boundaries = [0.0, 1.5, 2.0, 2.5, 3.0]\n",
    "m_targets = {\"Benchmark\":0.1, \"High\":0.15, \"Exemplary\":0.25, \"Mega-Compelling\":0.5}\n",
    "m_column_names =  [\"Benchmark\", \"High\", \"Exemplary\", \"Mega-Compelling\"]\n",
    "mappers['motivation'] = entrofy.mappers.ContinuousMapper(cohort_all[\"motivation\"], n_out=4,\n",
    "                                             boundaries=m_boundaries,\n",
    "                                             targets=m_targets, column_names = m_column_names)"
   ]
  },
  {
   "cell_type": "code",
   "execution_count": 8,
   "metadata": {},
   "outputs": [],
   "source": [
    "mappers['USA'].prefix = 'USA'\n",
    "mappers['atUW'].prefix = 'atUW'\n",
    "mappers['position'].prefix = 'position'\n",
    "mappers['gender'].prefix = 'gender'\n",
    "mappers['nonbin_trans'].prefix = 'nonbin_Trans'\n",
    "mappers['lgbtq'].prefix = 'lgbtq'\n",
    "mappers['color'].prefix = 'race_ethnic'\n",
    "mappers['language'].prefix = 'language'\n",
    "mappers['motivation'].prefix = 'motivation'\n",
    "mappers['met_climate'].prefix = 'met_climate'\n",
    "mappers['snow_ice'].prefix = 'snow_ice'\n",
    "mappers['alpine_forest'].prefix = 'alpine_forest'\n",
    "mappers['riv_streams'].prefix = 'riv_streams'\n",
    "mappers['lake_wetlands'].prefix = 'lake_wetlands'\n",
    "mappers['geo_sediment'].prefix = 'geo_sediment'\n",
    "mappers['quality_waste'].prefix = 'quality_waste'\n",
    "mappers['extreme_event_disaster'].prefix = 'extreme_event_disaster'\n",
    "mappers['urban'].prefix = 'urban'\n",
    "mappers['datasci_model_software'].prefix = 'datasci_model_software'\n",
    "mappers['fish_aquatic'].prefix = 'fish_aquatic'\n",
    "mappers['health'].prefix = 'health'\n",
    "mappers['hydraulics'].prefix = 'hydraulics'\n",
    "mappers['no_exp_yet'].prefix = 'no_exp_yet'"
   ]
  },
  {
   "cell_type": "markdown",
   "metadata": {},
   "source": [
    "### Set diversity targets for geography, institution and career stage"
   ]
  },
  {
   "cell_type": "markdown",
   "metadata": {},
   "source": [
    "Set to global population numbers (as with other diversity targets)\n",
    "\n",
    "Objective: train a cohort that represents the global population in order to advance research and technology for global water problems"
   ]
  },
  {
   "cell_type": "code",
   "execution_count": 9,
   "metadata": {},
   "outputs": [],
   "source": [
    "new_targets = [0.95, 0.05]\n",
    "sorted_keys = np.sort(list(mappers['USA'].targets.keys()))\n",
    "for t, key in zip(new_targets, sorted_keys):\n",
    "    mappers['USA'].targets[key] = t"
   ]
  },
  {
   "cell_type": "markdown",
   "metadata": {},
   "source": [
    "Objective: include UW & UW Freshwater Initiative participants (target =50%) and expand network of UW participants beyond UW (50%)"
   ]
  },
  {
   "cell_type": "code",
   "execution_count": 10,
   "metadata": {},
   "outputs": [],
   "source": [
    "new_targets = [0.50, 0.50]\n",
    "sorted_keys = np.sort(list(mappers['atUW'].targets.keys()))\n",
    "for t, key in zip(new_targets, sorted_keys):\n",
    "    mappers['atUW'].targets[key] = t"
   ]
  },
  {
   "cell_type": "markdown",
   "metadata": {},
   "source": [
    "Objective: 50% graduate student/postdoc, uniform distribution of all other career stages"
   ]
  },
  {
   "cell_type": "code",
   "execution_count": 11,
   "metadata": {},
   "outputs": [
    {
     "data": {
      "text/plain": [
       "array([\"Master's student\",\n",
       "       'Software professional (e.g. developer, infrastructure research, industry)',\n",
       "       'Professional scientist (e.g. government, non-profit, industry scientist)',\n",
       "       'Academic researcher (e.g. research scientist, data scientist)',\n",
       "       'PhD student', 'Academic faculty', 'Postdoc',\n",
       "       'Undergraduate student', 'Independent Consulting Data Scientist',\n",
       "       'Waterhackweek (e.g. Researcher, Staff, Consultant)',\n",
       "       'Masters student', 'eScience Staff '], dtype=object)"
      ]
     },
     "execution_count": 11,
     "metadata": {},
     "output_type": "execute_result"
    }
   ],
   "source": [
    "cohort_all[\"position\"].unique()"
   ]
  },
  {
   "cell_type": "code",
   "execution_count": 12,
   "metadata": {},
   "outputs": [
    {
     "name": "stdout",
     "output_type": "stream",
     "text": [
      "dict_keys(['PhD student', \"Master's student\", 'Academic researcher (e.g. research scientist, data scientist)', 'Professional scientist (e.g. government, non-profit, industry scientist)', 'Undergraduate student', 'Academic faculty', 'Waterhackweek (e.g. Researcher, Staff, Consultant)', 'Postdoc', 'Software professional (e.g. developer, infrastructure research, industry)', 'Masters student', 'Independent Consulting Data Scientist', 'eScience Staff '])\n",
      "PhD student                                                                  28\n",
      "Master's student                                                             13\n",
      "Academic researcher (e.g. research scientist, data scientist)                11\n",
      "Professional scientist (e.g. government, non-profit, industry scientist)      8\n",
      "Undergraduate student                                                         8\n",
      "Academic faculty                                                              5\n",
      "Waterhackweek (e.g. Researcher, Staff, Consultant)                            2\n",
      "Postdoc                                                                       2\n",
      "Software professional (e.g. developer, infrastructure research, industry)     1\n",
      "Masters student                                                               1\n",
      "Independent Consulting Data Scientist                                         1\n",
      "eScience Staff                                                                1\n",
      "Name: position, dtype: int64\n"
     ]
    },
    {
     "data": {
      "text/plain": [
       "12"
      ]
     },
     "execution_count": 12,
     "metadata": {},
     "output_type": "execute_result"
    }
   ],
   "source": [
    "print(mappers['position'].targets.keys())\n",
    "print(cohort_all[\"position\"].value_counts())\n",
    "len(mappers[\"position\"].targets.keys())"
   ]
  },
  {
   "cell_type": "code",
   "execution_count": 13,
   "metadata": {},
   "outputs": [
    {
     "name": "stdout",
     "output_type": "stream",
     "text": [
      "11\n"
     ]
    }
   ],
   "source": [
    "num_not_grad_categories=len(mappers[\"position\"].targets.keys())-1\n",
    "print(num_not_grad_categories)\n",
    "not_grad_target=0.5\n",
    "p=not_grad_target/num_not_grad_categories-0.000001 #uniform distribution for categories that are not grad students\n",
    "new_targets = [0.5,p,p,p,p,p,p,p,p,p,p,p]\n",
    "sorted_keys = np.sort(list(mappers['position'].targets.keys()))\n",
    "for t, key in zip(new_targets, sorted_keys):\n",
    "    mappers['position'].targets[key] = t"
   ]
  },
  {
   "cell_type": "markdown",
   "metadata": {},
   "source": [
    "### Set diversity targets for Demographics"
   ]
  },
  {
   "cell_type": "markdown",
   "metadata": {},
   "source": [
    "Objective: train a cohort that represents the global population in order to advance research and technology for global water problems"
   ]
  },
  {
   "cell_type": "code",
   "execution_count": 14,
   "metadata": {},
   "outputs": [
    {
     "name": "stdout",
     "output_type": "stream",
     "text": [
      "dict_keys(['Male', 'Female', 'Non-binary/Third gender or Prefer not to say'])\n"
     ]
    }
   ],
   "source": [
    "print(mappers['gender'].targets.keys())\n",
    "new_targets = [0.45, 0.45,0.1]\n",
    "sorted_keys = np.sort(list(mappers['gender'].targets.keys()))\n",
    "for t, key in zip(new_targets, sorted_keys):\n",
    "    mappers['gender'].targets[key] = t"
   ]
  },
  {
   "cell_type": "code",
   "execution_count": 15,
   "metadata": {},
   "outputs": [
    {
     "name": "stdout",
     "output_type": "stream",
     "text": [
      "dict_keys(['Binary or Prefer not to say', 'Non-binary/third gender'])\n"
     ]
    }
   ],
   "source": [
    "print(mappers['nonbin_trans'].targets.keys())\n",
    "new_targets = [0.97, 0.03]\n",
    "sorted_keys = np.sort(list(mappers['nonbin_trans'].targets.keys()))\n",
    "for t, key in zip(new_targets, sorted_keys):\n",
    "    mappers['nonbin_trans'].targets[key] = t"
   ]
  },
  {
   "cell_type": "code",
   "execution_count": 16,
   "metadata": {},
   "outputs": [
    {
     "name": "stdout",
     "output_type": "stream",
     "text": [
      "dict_keys(['No or Prefer not to say', 'Yes'])\n"
     ]
    }
   ],
   "source": [
    "print(mappers['lgbtq'].targets.keys())\n",
    "new_targets = [0.87, 0.13]\n",
    "sorted_keys = np.sort(list(mappers['lgbtq'].targets.keys()))\n",
    "for t, key in zip(new_targets, sorted_keys):\n",
    "    mappers['lgbtq'].targets[key] = t"
   ]
  },
  {
   "cell_type": "code",
   "execution_count": 17,
   "metadata": {},
   "outputs": [
    {
     "name": "stdout",
     "output_type": "stream",
     "text": [
      "dict_keys(['White, European American, or Caucasian', 'People of Color', 'No answer or Prefer not to say'])\n"
     ]
    }
   ],
   "source": [
    "print(mappers['color'].targets.keys())\n",
    "new_targets = [0.1, 0.8,0.1]\n",
    "sorted_keys = np.sort(list(mappers['color'].targets.keys()))\n",
    "for t, key in zip(new_targets, sorted_keys):\n",
    "    mappers['color'].targets[key] = t"
   ]
  },
  {
   "cell_type": "code",
   "execution_count": 18,
   "metadata": {},
   "outputs": [
    {
     "data": {
      "text/plain": [
       "{'White, European American, or Caucasian': 0.1,\n",
       " 'People of Color': 0.8,\n",
       " 'No answer or Prefer not to say': 0.1}"
      ]
     },
     "execution_count": 18,
     "metadata": {},
     "output_type": "execute_result"
    }
   ],
   "source": [
    "mappers['color'].targets"
   ]
  },
  {
   "cell_type": "code",
   "execution_count": 19,
   "metadata": {},
   "outputs": [
    {
     "name": "stdout",
     "output_type": "stream",
     "text": [
      "dict_keys(['1', '0'])\n"
     ]
    }
   ],
   "source": [
    "print(mappers['language'].targets.keys())\n",
    "new_targets = [0.05, 0.95]\n",
    "sorted_keys = np.sort(list(mappers['language'].targets.keys()))\n",
    "for t, key in zip(new_targets, sorted_keys):\n",
    "    mappers['language'].targets[key] = t\n",
    "#mappers['language'].targets"
   ]
  },
  {
   "cell_type": "code",
   "execution_count": 20,
   "metadata": {},
   "outputs": [
    {
     "data": {
      "text/plain": [
       "{'1': 0.95, '0': 0.05}"
      ]
     },
     "execution_count": 20,
     "metadata": {},
     "output_type": "execute_result"
    }
   ],
   "source": [
    "mappers['language'].targets"
   ]
  },
  {
   "cell_type": "code",
   "execution_count": 21,
   "metadata": {},
   "outputs": [],
   "source": [
    "new_targets = [0.50, 0.50]\n",
    "\n",
    "sorted_keys = np.sort(list(mappers['no_exp_yet'].targets.keys()))\n",
    "for t, key in zip(new_targets, sorted_keys):\n",
    "    mappers['no_exp_yet'].targets[key] = t\n",
    "\n",
    "sorted_keys = np.sort(list(mappers['datasci_model_software'].targets.keys()))\n",
    "for t, key in zip(new_targets, sorted_keys):\n",
    "    mappers['datasci_model_software'].targets[key] = t\n",
    "\n",
    "sorted_keys = np.sort(list(mappers['extreme_event_disaster'].targets.keys()))\n",
    "for t, key in zip(new_targets, sorted_keys):\n",
    "    mappers['extreme_event_disaster'].targets[key] = t\n",
    "    \n",
    "sorted_keys = np.sort(list(mappers['fish_aquatic'].targets.keys()))\n",
    "for t, key in zip(new_targets, sorted_keys):\n",
    "    mappers['fish_aquatic'].targets[key] = t\n",
    "\n",
    "sorted_keys = np.sort(list(mappers['geo_sediment'].targets.keys()))\n",
    "for t, key in zip(new_targets, sorted_keys):\n",
    "    mappers['geo_sediment'].targets[key] = t\n",
    "    \n",
    "sorted_keys = np.sort(list(mappers['health'].targets.keys()))\n",
    "for t, key in zip(new_targets, sorted_keys):\n",
    "    mappers['health'].targets[key] = t\n",
    "\n",
    "sorted_keys = np.sort(list(mappers['hydraulics'].targets.keys()))\n",
    "for t, key in zip(new_targets, sorted_keys):\n",
    "    mappers['hydraulics'].targets[key] = t\n",
    "\n",
    "sorted_keys = np.sort(list(mappers['lake_wetlands'].targets.keys()))\n",
    "for t, key in zip(new_targets, sorted_keys):\n",
    "    mappers['lake_wetlands'].targets[key] = t\n",
    "\n",
    "sorted_keys = np.sort(list(mappers['met_climate'].targets.keys()))\n",
    "for t, key in zip(new_targets, sorted_keys):\n",
    "    mappers['met_climate'].targets[key] = t\n",
    "    \n",
    "sorted_keys = np.sort(list(mappers['quality_waste'].targets.keys()))\n",
    "for t, key in zip(new_targets, sorted_keys):\n",
    "    mappers['quality_waste'].targets[key] = t\n",
    "    \n",
    "sorted_keys = np.sort(list(mappers['riv_streams'].targets.keys()))\n",
    "for t, key in zip(new_targets, sorted_keys):\n",
    "    mappers['riv_streams'].targets[key] = t\n",
    "    \n",
    "sorted_keys = np.sort(list(mappers['snow_ice'].targets.keys()))\n",
    "for t, key in zip(new_targets, sorted_keys):\n",
    "    mappers['snow_ice'].targets[key] = t\n",
    "    \n",
    "sorted_keys = np.sort(list(mappers['urban'].targets.keys()))\n",
    "for t, key in zip(new_targets, sorted_keys):\n",
    "    mappers['urban'].targets[key] = t"
   ]
  },
  {
   "cell_type": "markdown",
   "metadata": {},
   "source": [
    "### Sorting out auto + semi-manual + manual inclusion steps"
   ]
  },
  {
   "cell_type": "code",
   "execution_count": 22,
   "metadata": {},
   "outputs": [
    {
     "name": "stdout",
     "output_type": "stream",
     "text": [
      "60\n",
      "11\n"
     ]
    }
   ],
   "source": [
    "total_humans_attending=61\n",
    "target_new_attendees=40\n",
    "whw_team=len(cohort_all[cohort_all['ID'] >= 100]) #instructor/team who will be in attendence seed =1\n",
    "count_entofy_output=target_new_attendees+whw_team\n",
    "retention_issues=10\n",
    "overinvite=total_humans_attending-whw_team-target_new_attendees+retention_issues\n",
    "print(count_entofy_output)\n",
    "print(overinvite)"
   ]
  },
  {
   "cell_type": "markdown",
   "metadata": {},
   "source": [
    "### Team Members Selected\n",
    "Get a list of event planners and team who will be in attendance. These will be selected for sure, and inform the optimization of the remainder of the selection."
   ]
  },
  {
   "cell_type": "code",
   "execution_count": 23,
   "metadata": {},
   "outputs": [
    {
     "name": "stdout",
     "output_type": "stream",
     "text": [
      "(81, 26)\n",
      "RangeIndex(start=0, stop=81, step=1)\n",
      "[62, 63, 64, 67, 68, 69, 70, 71, 73, 74, 75, 76, 77, 78, 79, 80]\n"
     ]
    }
   ],
   "source": [
    "team_seed_pre_selects = []\n",
    "print(cohort_all.shape)\n",
    "print(cohort_all.index)\n",
    "for i in range(len(cohort_all)):\n",
    "    if cohort_all.loc[i,'seed']==1:\n",
    "      team_seed_pre_selects.append(cohort_all.index[i])\n",
    "print(team_seed_pre_selects)"
   ]
  },
  {
   "cell_type": "markdown",
   "metadata": {},
   "source": [
    "## Cohort Selected to Opimtize for Diversity \n",
    "Individuals are selected as a function of targets set during the initialization of the mappers, including the relative weight of each mapper, and the target distibution of each category in the mapped variable.  Essay scores are a continuous variable mapped to an exponential increasing distribution, where higher scores are more likely to be selected. "
   ]
  },
  {
   "cell_type": "code",
   "execution_count": 24,
   "metadata": {},
   "outputs": [
    {
     "name": "stdout",
     "output_type": "stream",
     "text": [
      "351.42514433177445\n"
     ]
    }
   ],
   "source": [
    "opt_outs = []\n",
    "random_seed = 3\n",
    "target_new_attendees=40\n",
    "count_output=target_new_attendees+14\n",
    "\n",
    "idx, max_score = entrofy.core.entrofy(cohort_all, count_entofy_output,\n",
    "                                      mappers=mappers,\n",
    "                                      weights=weights,\n",
    "                                      seed=random_seed,\n",
    "                                      opt_outs = opt_outs,\n",
    "                                      pre_selects = team_seed_pre_selects)\n",
    "print(max_score)"
   ]
  },
  {
   "cell_type": "code",
   "execution_count": 25,
   "metadata": {},
   "outputs": [],
   "source": [
    "cohort_all['entrofy_selected']=0\n",
    "for i in range(len(idx)):\n",
    "    cohort_all.loc[idx[i],'entrofy_selected']=1"
   ]
  },
  {
   "cell_type": "markdown",
   "metadata": {},
   "source": [
    "### Visualizing Entrofy Results"
   ]
  },
  {
   "cell_type": "code",
   "execution_count": 26,
   "metadata": {},
   "outputs": [
    {
     "data": {
      "text/plain": [
       "<seaborn.axisgrid.FacetGrid at 0x1111fec50>"
      ]
     },
     "execution_count": 26,
     "metadata": {},
     "output_type": "execute_result"
    },
    {
     "data": {
      "image/png": "[encoded data removed]",
      "text/plain": [
       "<Figure size 720x360 with 2 Axes>"
      ]
     },
     "metadata": {
      "needs_background": "light"
     },
     "output_type": "display_data"
    }
   ],
   "source": [
    "sns.catplot(y=\"gender\", kind=\"count\", palette=\"GnBu_d\", col=\"entrofy_selected\", data=cohort_all)"
   ]
  },
  {
   "cell_type": "code",
   "execution_count": 27,
   "metadata": {},
   "outputs": [
    {
     "data": {
      "image/png": "[encoded data removed]",
      "text/plain": [
       "<Figure size 720x360 with 2 Axes>"
      ]
     },
     "metadata": {
      "needs_background": "light"
     },
     "output_type": "display_data"
    }
   ],
   "source": [
    "sns.catplot(y=\"color\", kind=\"count\", palette=\"GnBu_d\", col=\"entrofy_selected\", data=cohort_all);"
   ]
  },
  {
   "cell_type": "code",
   "execution_count": 28,
   "metadata": {},
   "outputs": [
    {
     "data": {
      "image/png": "[encoded data removed]",
      "text/plain": [
       "<Figure size 720x360 with 2 Axes>"
      ]
     },
     "metadata": {
      "needs_background": "light"
     },
     "output_type": "display_data"
    }
   ],
   "source": [
    "sns.catplot(y=\"race_ethnic\", kind=\"count\", palette=\"GnBu_d\", col=\"entrofy_selected\", data=cohort_all);"
   ]
  },
  {
   "cell_type": "code",
   "execution_count": 29,
   "metadata": {},
   "outputs": [
    {
     "data": {
      "image/png": "[encoded data removed]",
      "text/plain": [
       "<Figure size 720x360 with 2 Axes>"
      ]
     },
     "metadata": {
      "needs_background": "light"
     },
     "output_type": "display_data"
    },
    {
     "data": {
      "image/png": "[encoded data removed]",
      "text/plain": [
       "<Figure size 720x360 with 2 Axes>"
      ]
     },
     "metadata": {
      "needs_background": "light"
     },
     "output_type": "display_data"
    },
    {
     "data": {
      "image/png": "[encoded data removed]",
      "text/plain": [
       "<Figure size 360x360 with 1 Axes>"
      ]
     },
     "metadata": {
      "needs_background": "light"
     },
     "output_type": "display_data"
    }
   ],
   "source": [
    "sns.catplot(y=\"gender\", kind=\"count\", palette=\"GnBu_d\", col=\"entrofy_selected\", data=cohort_all.loc[cohort_all[\"position\"]=='PhD student']);\n",
    "sns.catplot(y=\"gender\", kind=\"count\", palette=\"GnBu_d\", col=\"seed\", data=cohort_all.loc[cohort_all[\"position\"]=='PhD student']);\n",
    "sns.catplot(y=\"gender\", kind=\"count\", palette=\"GnBu_d\",  data=cohort_all);"
   ]
  },
  {
   "cell_type": "code",
   "execution_count": 30,
   "metadata": {},
   "outputs": [
    {
     "data": {
      "image/png": "[encoded data removed]",
      "text/plain": [
       "<Figure size 720x360 with 2 Axes>"
      ]
     },
     "metadata": {
      "needs_background": "light"
     },
     "output_type": "display_data"
    },
    {
     "data": {
      "image/png": "[encoded data removed]",
      "text/plain": [
       "<Figure size 720x360 with 2 Axes>"
      ]
     },
     "metadata": {
      "needs_background": "light"
     },
     "output_type": "display_data"
    },
    {
     "data": {
      "image/png": "[encoded data removed]",
      "text/plain": [
       "<Figure size 360x360 with 1 Axes>"
      ]
     },
     "metadata": {
      "needs_background": "light"
     },
     "output_type": "display_data"
    }
   ],
   "source": [
    "sns.catplot(y=\"race_ethnic\", kind=\"count\", palette=\"GnBu_d\", col=\"entrofy_selected\", data=cohort_all.loc[cohort_all[\"position\"]=='PhD student']);\n",
    "sns.catplot(y=\"race_ethnic\", kind=\"count\", palette=\"GnBu_d\", col=\"seed\", data=cohort_all.loc[cohort_all[\"position\"]=='PhD student']);\n",
    "sns.catplot(y=\"race_ethnic\", kind=\"count\", palette=\"GnBu_d\",  data=cohort_all);"
   ]
  },
  {
   "cell_type": "code",
   "execution_count": 31,
   "metadata": {},
   "outputs": [],
   "source": [
    "cohort_all.to_csv(\"cohort_all_after_entrofy.csv\")"
   ]
  }
 ],
 "metadata": {
  "kernelspec": {
   "display_name": "Python 3",
   "language": "python",
   "name": "python3"
  },
  "language_info": {
   "codemirror_mode": {
    "name": "ipython",
    "version": 3
   },
   "file_extension": ".py",
   "mimetype": "text/x-python",
   "name": "python",
   "nbconvert_exporter": "python",
   "pygments_lexer": "ipython3",
   "version": "3.7.4"
  }
 },
 "nbformat": 4,
 "nbformat_minor": 2
}
