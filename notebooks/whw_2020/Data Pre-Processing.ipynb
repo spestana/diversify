{
 "cells": [
  {
   "cell_type": "code",
   "execution_count": 128,
   "metadata": {},
   "outputs": [],
   "source": [
    "import pandas as pd\n",
    "import numpy as np\n",
    "import seaborn as sns\n",
    "import numpy as np\n",
    "from matplotlib import pyplot as plt\n",
    "import entrofy.core"
   ]
  },
  {
   "cell_type": "markdown",
   "metadata": {},
   "source": [
    "## Read the data"
   ]
  },
  {
   "cell_type": "code",
   "execution_count": 129,
   "metadata": {},
   "outputs": [],
   "source": [
    "participants = pd.read_csv(\"Waterhackweek-2020-Participants-Workshop-On-Water-Data-Science.csv\")"
   ]
  },
  {
   "cell_type": "code",
   "execution_count": 130,
   "metadata": {},
   "outputs": [],
   "source": [
    "instructors = pd.read_csv(\"Waterhackweek-2020-Instructors-Workshop-On-Water-Data-Science.csv\")"
   ]
  },
  {
   "cell_type": "code",
   "execution_count": 131,
   "metadata": {},
   "outputs": [],
   "source": [
    "motivation = pd.read_csv(\"motivation_a60_20200116.csv\")"
   ]
  },
  {
   "cell_type": "markdown",
   "metadata": {},
   "source": [
    "## Clean the data"
   ]
  },
  {
   "cell_type": "markdown",
   "metadata": {},
   "source": [
    "### Country of Origin"
   ]
  },
  {
   "cell_type": "markdown",
   "metadata": {},
   "source": [
    "Clean 'Country of Origin' \n",
    "to account for various was USA is reported by applicants in the form (no controlled vocabulary or dropdown list). "
   ]
  },
  {
   "cell_type": "code",
   "execution_count": 89,
   "metadata": {},
   "outputs": [],
   "source": [
    "participants.replace(to_replace = {'Country of origin':{'US':'USA',\n",
    "                                                 'United States':'USA',\n",
    "                                                  'U.S.A':'USA',\n",
    "                                                  'U.S.':'USA',\n",
    "                                         'United States of America':'USA'}}, inplace = True)"
   ]
  },
  {
   "cell_type": "code",
   "execution_count": 90,
   "metadata": {},
   "outputs": [],
   "source": [
    "instructors.replace(to_replace = {'Country of Origin and/or Tribal or First Nation Affiliation':{'US':'USA',\n",
    "                                                 'United States':'USA',\n",
    "                                                  'U.S.A':'USA',\n",
    "                                                  'U.S.':'USA',\n",
    "                                         'United States of America':'USA'}}, inplace = True)"
   ]
  },
  {
   "cell_type": "code",
   "execution_count": 91,
   "metadata": {},
   "outputs": [],
   "source": [
    "participants['USA'] = participants.apply(lambda row: 1 if row['Country of origin'] == 'USA' else 0, axis=1)\n",
    "\n",
    "instructors['USA'] = instructors.apply(lambda row: 1 if row['Country of Origin and/or Tribal or First Nation Affiliation'] == 'USA' else 0, axis=1)"
   ]
  },
  {
   "cell_type": "markdown",
   "metadata": {},
   "source": [
    "### Affiliation"
   ]
  },
  {
   "cell_type": "markdown",
   "metadata": {},
   "source": [
    "'Are you currently affiliated with the University of Washington?'  For research network building, benefit to the broader academic community, and direct benefit to UW researchers, our program aims for 50% of participants whom are affiliated with UW. "
   ]
  },
  {
   "cell_type": "code",
   "execution_count": 92,
   "metadata": {},
   "outputs": [],
   "source": [
    "participants['atUW'] = participants.apply(lambda row: 1 if row['Are you currently affiliated with the University of Washington?'] == 'Yes' \n",
    "                                          else 0, axis=1)"
   ]
  },
  {
   "cell_type": "code",
   "execution_count": 93,
   "metadata": {},
   "outputs": [],
   "source": [
    "instructors['atUW'] = instructors.apply(lambda row: 1 if row['Are you associated with the University of Washington?'] == 'Yes' \n",
    "                                        else 0, axis=1)"
   ]
  },
  {
   "cell_type": "markdown",
   "metadata": {},
   "source": [
    "### Position"
   ]
  },
  {
   "cell_type": "markdown",
   "metadata": {},
   "source": [
    "'What is your current position?' For research network building, benefit to the broader academic community, and direct benefit to UW researchers, our program aims for 50% of participants whom are doctoral (PhD) students and a uniform distribution of all other educational and career stages.\n",
    "\n",
    "\"Position\" is categorical. If any of the participants fills in the \"Other\" column, check if that can be mapped to any of the existing categories, or create a new category for it"
   ]
  },
  {
   "cell_type": "code",
   "execution_count": 96,
   "metadata": {},
   "outputs": [
    {
     "data": {
      "text/plain": [
       "array([\"Master's student\",\n",
       "       'Software professional (e.g. developer, infrastructure research, industry)',\n",
       "       'Professional scientist (e.g. government, non-profit, industry scientist)',\n",
       "       'Academic researcher (e.g. research scientist, data scientist)',\n",
       "       'PhD student', 'Academic faculty', 'Postdoc',\n",
       "       'Undergraduate student', 'Independent Consulting Data Scientist'],\n",
       "      dtype=object)"
      ]
     },
     "execution_count": 96,
     "metadata": {},
     "output_type": "execute_result"
    }
   ],
   "source": [
    "participants['position'] = participants['What is your current position?']\n",
    "participants.replace(to_replace = {'position':{'Undergraduate Student and Research Technician':'Undergraduate student',\n",
    "                                               'Postdoctoral fellow' : 'Postdoc',\n",
    "                                               'Independent researcher' : 'Academic researcher (e.g. research scientist, data scientist)',\n",
    "                                               'Indendently consulting data scientist' : 'Independent Consulting Data Scientist'\n",
    "                                  }}, inplace = True)\n",
    "participants['position'].unique()"
   ]
  },
  {
   "cell_type": "code",
   "execution_count": 97,
   "metadata": {},
   "outputs": [
    {
     "data": {
      "text/plain": [
       "array(['Academic researcher (e.g. research scientist, data scientist)',\n",
       "       'Professional scientist (e.g. government, non-profit, industry scientist)',\n",
       "       'Waterhackweek (e.g. Researcher, Staff, Consultant)',\n",
       "       'PhD student', 'Academic faculty', \"Master's student\",\n",
       "       'Undergraduate student', 'eScience Staff '], dtype=object)"
      ]
     },
     "execution_count": 97,
     "metadata": {},
     "output_type": "execute_result"
    }
   ],
   "source": [
    "instructors['position'] = instructors['What is your current position?']\n",
    "\n",
    "instructors.replace(to_replace = {'position':{ 'Evaluation Scientist' : 'Waterhackweek (e.g. Researcher, Staff, Consultant)',\n",
    "                                               'Freshwater Initiative Communications Specialist' : 'Waterhackweek (e.g. Researcher, Staff, Consultant)',\n",
    "\n",
    "                                  }}, inplace = True)\n",
    "\n",
    "instructors['position'].unique()"
   ]
  },
  {
   "cell_type": "markdown",
   "metadata": {},
   "source": [
    "### Gender"
   ]
  },
  {
   "cell_type": "markdown",
   "metadata": {},
   "source": [
    "Check if the non-required field gender has been filled out, if yes, then use that, otherwise use the pronouns field, otherwise put in the \"Prefer Not to say\" category"
   ]
  },
  {
   "cell_type": "code",
   "execution_count": 98,
   "metadata": {},
   "outputs": [
    {
     "data": {
      "text/plain": [
       "array(['Male', 'Female', 'Non-binary/Third gender or Prefer not to say'],\n",
       "      dtype=object)"
      ]
     },
     "execution_count": 98,
     "metadata": {},
     "output_type": "execute_result"
    }
   ],
   "source": [
    "participants['gender']=participants['What is your gender (optional)?']\n",
    "participants.replace(to_replace = {'gender':{'Non-binary/third gender':'Non-binary/Third gender or Prefer not to say',\n",
    "                                             np.nan : 'Non-binary/Third gender or Prefer not to say'\n",
    "                                  }}, inplace = True)\n",
    "\n",
    "participants['gender'].unique()"
   ]
  },
  {
   "cell_type": "code",
   "execution_count": 99,
   "metadata": {},
   "outputs": [
    {
     "data": {
      "text/plain": [
       "array(['Female', 'Male'], dtype=object)"
      ]
     },
     "execution_count": 99,
     "metadata": {},
     "output_type": "execute_result"
    }
   ],
   "source": [
    "instructors['gender']=instructors['What is your gender?']\n",
    "instructors.replace(to_replace = {'gender':{'Non-binary/third gender':'Neither or Prefer not to say',\n",
    "                                             np.nan : 'Non-binary/Third gender or Prefer not to say'\n",
    "                                  }}, inplace = True)\n",
    "\n",
    "instructors['gender'].unique()"
   ]
  },
  {
   "cell_type": "markdown",
   "metadata": {},
   "source": [
    "### Experience"
   ]
  },
  {
   "cell_type": "markdown",
   "metadata": {},
   "source": [
    "Experience is used by the instructors to prepare materials accordingly"
   ]
  },
  {
   "cell_type": "markdown",
   "metadata": {},
   "source": [
    "Programming experience"
   ]
  },
  {
   "cell_type": "code",
   "execution_count": 100,
   "metadata": {},
   "outputs": [
    {
     "data": {
      "text/plain": [
       "array(['I have read and edited scripts written by other people',\n",
       "       'I have written and released a software package for others to use, including unit tests and documentation',\n",
       "       'I have structured and written code to be reusable, including functions and classes',\n",
       "       'I have written scripts for basic analysis tasks, but have not included formal structures like functions or classes',\n",
       "       'I have no coding experience'], dtype=object)"
      ]
     },
     "execution_count": 100,
     "metadata": {},
     "output_type": "execute_result"
    }
   ],
   "source": [
    "participants['programming_experience'] = participants['Programming experience.  We strive to invite a broad mix of people whose expertise ranges from beginner to expert level.']\n",
    "participants.replace(to_replace = {'programming_experience':{'I have written the scripts and edited both according to my work':'I have structured and written code to be reusable, including functions and classes'}}, inplace = True)\n",
    "participants['programming_experience'].unique()"
   ]
  },
  {
   "cell_type": "markdown",
   "metadata": {},
   "source": [
    "Water related research experience"
   ]
  },
  {
   "cell_type": "code",
   "execution_count": 101,
   "metadata": {},
   "outputs": [
    {
     "data": {
      "text/plain": [
       "array(['Little experience, just starting!',\n",
       "       'More experience with geospatial than timeseries',\n",
       "       'Very experienced with both spatial and temporal data',\n",
       "       'More experience with point timeseries than geospatial datasets',\n",
       "       'Very experienced in geospatial data in a GIS setting, and more experience with point timeseries than geospatial through coding'],\n",
       "      dtype=object)"
      ]
     },
     "execution_count": 101,
     "metadata": {},
     "output_type": "execute_result"
    }
   ],
   "source": [
    "participants['water_experience'] = participants['Experience with working with water-related datasets']\n",
    "participants.replace(to_replace = {'water_experience':{'Experienced with both spatial and temporal data':'Very experienced with both spatial and temporal data'}}, inplace = True)\n",
    "participants['water_experience'].unique()"
   ]
  },
  {
   "cell_type": "markdown",
   "metadata": {},
   "source": [
    "Machine learning experience"
   ]
  },
  {
   "cell_type": "code",
   "execution_count": 102,
   "metadata": {},
   "outputs": [
    {
     "data": {
      "text/plain": [
       "array(['Little to no experience',\n",
       "       \"I have had some exposure to machine learning e.g. through course work or tutorials, but haven't applied any methods in a real-world setting\",\n",
       "       'I have used some machine learning on real data sets (e.g. in my own research, as part of a side project)',\n",
       "       'I have implemented or developed algorithms myself',\n",
       "       \"I've worked with a data scientist to use machine learning on real data sets but have not implemented it myself.\"],\n",
       "      dtype=object)"
      ]
     },
     "execution_count": 102,
     "metadata": {},
     "output_type": "execute_result"
    }
   ],
   "source": [
    "participants['ml_experience'] = participants['Machine learning knowledge']\n",
    "participants['ml_experience'].unique()"
   ]
  },
  {
   "cell_type": "markdown",
   "metadata": {},
   "source": [
    "Statistics experience"
   ]
  },
  {
   "cell_type": "code",
   "execution_count": 103,
   "metadata": {},
   "outputs": [
    {
     "data": {
      "text/plain": [
       "array(['I have used statistics on real data sets (e.g. in my own research, as part of a side project)',\n",
       "       \"I have had some exposure to statistics, e.g. through course work or tutorials, but haven't applied any methods to real data sets\",\n",
       "       'I have implemented or developed algorithms myself'], dtype=object)"
      ]
     },
     "execution_count": 103,
     "metadata": {},
     "output_type": "execute_result"
    }
   ],
   "source": [
    "participants['stats_experience'] = participants['Statistics knowledge']\n",
    "participants.replace(to_replace = {'stats_experience':{'I\\'m a Bayesian and a big fan of Stan and PyMC3':'I have used statistics on real data sets (e.g. in my own research, as part of a side project)'}}, inplace = True)\n",
    "participants['stats_experience'].unique()"
   ]
  },
  {
   "cell_type": "markdown",
   "metadata": {},
   "source": [
    "Cloud Computing Experience"
   ]
  },
  {
   "cell_type": "code",
   "execution_count": 104,
   "metadata": {},
   "outputs": [
    {
     "data": {
      "text/plain": [
       "array(['Little to no experience',\n",
       "       'I have had some exposure to cloud computing',\n",
       "       'I routinely use HPC and cloud computing'], dtype=object)"
      ]
     },
     "execution_count": 104,
     "metadata": {},
     "output_type": "execute_result"
    }
   ],
   "source": [
    "participants['cloud_experience'] = participants['Cloud computing experience']\n",
    "participants.replace(to_replace = {'cloud_experience':{'I\\'m a student ambassador for my university\\'s HPC system, but still need to learn more':'I routinely use HPC and cloud computing'}}, inplace = True)\n",
    "participants.replace(to_replace = {'cloud_experience':{'I have used HPC to get precise point position using real time IRNSS navigation data in a pilot project at Indian Institute of Remote Sensing, Dehradun':'I have had some exposure to cloud computing'}}, inplace = True)\n",
    "participants['cloud_experience'].unique()"
   ]
  },
  {
   "cell_type": "markdown",
   "metadata": {},
   "source": [
    "Command line interface experience"
   ]
  },
  {
   "cell_type": "code",
   "execution_count": 105,
   "metadata": {},
   "outputs": [
    {
     "data": {
      "text/plain": [
       "array(['I commonly use a command line in my work',\n",
       "       'I occasionally use a command line in my work',\n",
       "       'Little to no experience'], dtype=object)"
      ]
     },
     "execution_count": 105,
     "metadata": {},
     "output_type": "execute_result"
    }
   ],
   "source": [
    "participants['command_line_experience'] = participants['Familiarity with command line interfaces. This refers to your experience interacting with a computing environment through typed commands as opposed to graphical user interfaces, for example to install open source libraries.']\n",
    "participants.replace(to_replace = {'command_line_experience':{'I used the command line a lot, but it\\'s usually the same commands over and over':'I commonly use a command line in my work'}}, inplace = True)\n",
    "participants.replace(to_replace = {'command_line_experience':{'Little to no experience; Used UNIX command line extensively for MS work at U Arizona':'Little to no experience'}}, inplace = True)\n",
    "participants.replace(to_replace = {'command_line_experience':{'On through bash to manage python packages (Miniconda) and using JupyterNotebook to code':'I occasionally use a command line in my work'}}, inplace = True)\n",
    "participants['command_line_experience'].unique()"
   ]
  },
  {
   "cell_type": "markdown",
   "metadata": {},
   "source": [
    "Version control experience"
   ]
  },
  {
   "cell_type": "code",
   "execution_count": 106,
   "metadata": {},
   "outputs": [
    {
     "data": {
      "text/plain": [
       "array(['Little to no experience',\n",
       "       'I commonly use version control and code sharing tools in my work',\n",
       "       'I occasionally use version control and code sharing tools in my work'],\n",
       "      dtype=object)"
      ]
     },
     "execution_count": 106,
     "metadata": {},
     "output_type": "execute_result"
    }
   ],
   "source": [
    "participants['Familiarity with version control and code sharing tools. This refers to your experience working with version control and code sharing in an open source environment, using tools such as Git and GitHub.']\n",
    "participants['version_control_experience'] = participants['Familiarity with version control and code sharing tools. This refers to your experience working with version control and code sharing in an open source environment, using tools such as Git and GitHub.']\n",
    "participants.replace(to_replace = {'version_control_experience' : {'Little to no experience; Only used Git for a course to pull, have not pushed but understand how Git works':'Little to no experience'}}, inplace = True)\n",
    "participants['version_control_experience'].unique()"
   ]
  },
  {
   "cell_type": "markdown",
   "metadata": {},
   "source": [
    "### LGBTQ"
   ]
  },
  {
   "cell_type": "code",
   "execution_count": 107,
   "metadata": {},
   "outputs": [
    {
     "data": {
      "text/plain": [
       "array(['No or Prefer not to say', 'Yes'], dtype=object)"
      ]
     },
     "execution_count": 107,
     "metadata": {},
     "output_type": "execute_result"
    }
   ],
   "source": [
    "participants['lgbtq']=participants['Do you consider yourself a member of the Lesbian, Gay, Bisexual, Transgender, and/or Queer (LGBTQ) community?'].fillna(0)\n",
    "participants.replace(to_replace = {'lgbtq':{'No, but I identify as an Ally*':'No or Prefer not to say',\n",
    "                                   0:'No or Prefer not to say',\n",
    "                                   'No':'No or Prefer not to say',\n",
    "                                  }}, inplace = True)\n",
    "\n",
    "participants['lgbtq'].unique()"
   ]
  },
  {
   "cell_type": "code",
   "execution_count": 108,
   "metadata": {},
   "outputs": [
    {
     "data": {
      "text/plain": [
       "array(['No or Prefer not to say', 'Yes'], dtype=object)"
      ]
     },
     "execution_count": 108,
     "metadata": {},
     "output_type": "execute_result"
    }
   ],
   "source": [
    "instructors['lgbtq']=instructors['Do you consider yourself a member of the Lesbian, Gay, Bisexual, Transgender, and/or Queer (LGBTQ) community?'].fillna(0)\n",
    "instructors.replace(to_replace = {'lgbtq':{'No, but I identify as an Ally*':'No or Prefer not to say',\n",
    "                                   0:'No or Prefer not to say',\n",
    "                                   'No':'No or Prefer not to say',\n",
    "                                  }}, inplace = True)\n",
    "\n",
    "instructors['lgbtq'].unique()"
   ]
  },
  {
   "cell_type": "markdown",
   "metadata": {},
   "source": [
    "### Non-Binary Trans"
   ]
  },
  {
   "cell_type": "code",
   "execution_count": 109,
   "metadata": {},
   "outputs": [
    {
     "data": {
      "text/plain": [
       "array(['Binary or Prefer not to say', 'Non-binary/third gender'],\n",
       "      dtype=object)"
      ]
     },
     "execution_count": 109,
     "metadata": {},
     "output_type": "execute_result"
    }
   ],
   "source": [
    "participants['nonbin_trans']=participants['What is your gender (optional)?'].fillna(0)\n",
    "participants.replace(to_replace = {'nonbin_trans':{'Male':'Binary or Prefer not to say',\n",
    "                                       'Female':'Binary or Prefer not to say',\n",
    "                                          0:'Binary or Prefer not to say',\n",
    "                                  }}, inplace = True)\n",
    "\n",
    "participants['nonbin_trans'].unique()"
   ]
  },
  {
   "cell_type": "code",
   "execution_count": 110,
   "metadata": {},
   "outputs": [
    {
     "data": {
      "text/plain": [
       "array(['Binary or Prefer not to say'], dtype=object)"
      ]
     },
     "execution_count": 110,
     "metadata": {},
     "output_type": "execute_result"
    }
   ],
   "source": [
    "instructors['nonbin_trans']=instructors['What is your gender?'].fillna(0)\n",
    "instructors.replace(to_replace = {'nonbin_trans':{'Male':'Binary or Prefer not to say',\n",
    "                                       'Female':'Binary or Prefer not to say',\n",
    "                                          0:'Binary or Prefer not to say',\n",
    "                                  }}, inplace = True)\n",
    "\n",
    "instructors['nonbin_trans'].unique()"
   ]
  },
  {
   "cell_type": "markdown",
   "metadata": {},
   "source": [
    "### Race Ethnic\n",
    "This field is created for visualization purposes"
   ]
  },
  {
   "cell_type": "markdown",
   "metadata": {},
   "source": [
    "Known issue: multiple race identities reported by minority race; Future Work = code to fractions to total identity proportions"
   ]
  },
  {
   "cell_type": "code",
   "execution_count": 111,
   "metadata": {},
   "outputs": [
    {
     "data": {
      "text/plain": [
       "array(['White, European American, or Caucasian', 'North Asian',\n",
       "       'No answer or Prefer not to say', 'Indigenous', 'South Asian',\n",
       "       'Hispanic, Latinx, or Spanish', 'Middle Eastern or North African'],\n",
       "      dtype=object)"
      ]
     },
     "execution_count": 111,
     "metadata": {},
     "output_type": "execute_result"
    }
   ],
   "source": [
    "participants['What best describes you? (select all that apply):']\n",
    "participants['race_ethnic']=participants['What best describes you? (select all that apply):'].fillna(0)\n",
    "\n",
    "participants.replace(to_replace = {'race_ethnic':{'Asian':'North Asian',\n",
    "                                   0:'No answer or Prefer not to say',\n",
    "                                   'American Indian, Alaska Native, or Native American': 'Indigenous',\n",
    "                                   'Asian; White, European American, or Caucasian':'North Asian',\n",
    "                                   'Hispanic, Latinx, or Spanish; White, European American, or Caucasian':'Hispanic, Latinx, or Spanish',\n",
    "                                    'Indian' : 'South Asian',\n",
    "                                    'Pakistani' : 'South Asian',\n",
    "                                    'Asian; Indian' : 'South Asian',\n",
    "                                   'Middle Eastern or North African; White, European American, or Caucasian':'Middle Eastern or North African',\n",
    "                                   'Native Hawaiian or Other Pacific Islander' : 'Indigenous'\n",
    "                                  }}, inplace = True)\n",
    "\n",
    "participants['race_ethnic'].unique()"
   ]
  },
  {
   "cell_type": "code",
   "execution_count": 112,
   "metadata": {},
   "outputs": [
    {
     "data": {
      "text/plain": [
       "array(['White, European American, or Caucasian',\n",
       "       'African, African American, or Black',\n",
       "       'Middle Eastern or North African', 'Hispanic, Latinx, or Spanish',\n",
       "       'North Asian'], dtype=object)"
      ]
     },
     "execution_count": 112,
     "metadata": {},
     "output_type": "execute_result"
    }
   ],
   "source": [
    "instructors['What categories best describe you? (select all that apply)']\n",
    "instructors['race_ethnic']=instructors['What categories best describe you? (select all that apply)'].fillna(0)\n",
    "\n",
    "instructors.replace(to_replace = {'race_ethnic':{'Asian':'North Asian',\n",
    "                                   0:'No answer or Prefer not to say',\n",
    "                                   'American Indian, Alaska Native, or Native American': 'Indigenous',\n",
    "                                   #'Hispanic, Latinx, or Spanish':'People of Color',\n",
    "                                   #'African, African American, or Black':'People of Color',\n",
    "                                    'Indian' : 'South Asian',\n",
    "                                    'Pakistani' : 'South Asian',\n",
    "                                    'Asian; Indian' : 'South Asian',\n",
    "                                   'Middle Eastern or North African; White, European American, or Caucasian':'Middle Eastern or North African',\n",
    "                                   'Native Hawaiian or Other Pacific Islander' : 'Indigenous'\n",
    "                                  }}, inplace = True)\n",
    "instructors['race_ethnic'].unique()"
   ]
  },
  {
   "cell_type": "markdown",
   "metadata": {},
   "source": [
    "### Color\n",
    "Thsi field is created for the purpose of providing input to entrofy"
   ]
  },
  {
   "cell_type": "code",
   "execution_count": 113,
   "metadata": {},
   "outputs": [
    {
     "data": {
      "text/plain": [
       "array(['White, European American, or Caucasian', 'People of Color',\n",
       "       'No answer or Prefer not to say'], dtype=object)"
      ]
     },
     "execution_count": 113,
     "metadata": {},
     "output_type": "execute_result"
    }
   ],
   "source": [
    "participants['What best describes you? (select all that apply):']\n",
    "participants['color']=participants['What best describes you? (select all that apply):'].fillna(0)\n",
    "\n",
    "participants.replace(to_replace = {'color':{'Asian':'People of Color',\n",
    "                                   0:'No answer or Prefer not to say',\n",
    "                                   'American Indian, Alaska Native, or Native American': 'People of Color',\n",
    "                                   'Asian; White, European American, or Caucasian':'People of Color',\n",
    "                                   'Hispanic, Latinx, or Spanish; White, European American, or Caucasian':'People of Color',\n",
    "                                    'Hispanic, Latinx, or Spanish' : 'People of Color',\n",
    "                                    'Indian' : 'People of Color',\n",
    "                                    'Middle Eastern or North African' :'People of Color',\n",
    "                                    'Pakistani' : 'People of Color',\n",
    "                                    'Asian; Indian' : 'People of Color',\n",
    "                                   'Middle Eastern or North African; White, European American, or Caucasian':'People of Color',\n",
    "                                   'Native Hawaiian or Other Pacific Islander' : 'People of Color'\n",
    "                                  }}, inplace = True)\n",
    "\n",
    "participants['color'].unique()"
   ]
  },
  {
   "cell_type": "code",
   "execution_count": 114,
   "metadata": {},
   "outputs": [
    {
     "data": {
      "text/plain": [
       "array(['White, European American, or Caucasian', 'People of Color'],\n",
       "      dtype=object)"
      ]
     },
     "execution_count": 114,
     "metadata": {},
     "output_type": "execute_result"
    }
   ],
   "source": [
    "instructors['color']=instructors['What categories best describe you? (select all that apply)'].fillna(0)\n",
    "\n",
    "instructors.replace(to_replace = {'color':{'Asian':'People of Color',\n",
    "                                   0:'No answer or Prefer not to say',\n",
    "                                   'American Indian, Alaska Native, or Native American': 'People of Color',\n",
    "                                   'Hispanic, Latinx, or Spanish':'People of Color',\n",
    "                                   'African, African American, or Black':'People of Color',\n",
    "                                    'Indian' : 'People of Color',\n",
    "                                    'Pakistani' : 'People of Color',\n",
    "                                    'Asian; Indian' : 'People of Color',\n",
    "                                   'Middle Eastern or North African; White, European American, or Caucasian':'People of Color',\n",
    "                                   'Native Hawaiian or Other Pacific Islander' : 'People of Color'\n",
    "                                  }}, inplace = True)\n",
    "instructors['color'].unique()"
   ]
  },
  {
   "cell_type": "markdown",
   "metadata": {},
   "source": [
    "### Language"
   ]
  },
  {
   "cell_type": "code",
   "execution_count": 115,
   "metadata": {},
   "outputs": [
    {
     "data": {
      "text/plain": [
       "array([1, 0])"
      ]
     },
     "execution_count": 115,
     "metadata": {},
     "output_type": "execute_result"
    }
   ],
   "source": [
    "participants['language'] = participants['What languages do you speak?']\n",
    "participants.replace(to_replace = {'language':{np.nan:'Prefer not to answer',\n",
    "                                  }}, inplace = True)\n",
    "participants.replace(to_replace = {'What languages do you speak?':{np.nan:'Prefer not to answer',\n",
    "                                  }}, inplace = True)\n",
    "\n",
    "participants['language'] = participants.apply(lambda row: 1 if row['language'] == 'English' else 0, axis=1)\n",
    "participants['language'].unique()"
   ]
  },
  {
   "cell_type": "code",
   "execution_count": 116,
   "metadata": {},
   "outputs": [
    {
     "data": {
      "text/plain": [
       "array([0, 1])"
      ]
     },
     "execution_count": 116,
     "metadata": {},
     "output_type": "execute_result"
    }
   ],
   "source": [
    "instructors['language'] = instructors['What languages do you speak?']\n",
    "instructors.replace(to_replace = {'language':{np.nan:'English',\n",
    "                                           'English; Bi-lingual; Multi-lingual':'Multi-lingual',\n",
    "                                  }}, inplace = True)\n",
    "instructors.replace(to_replace = {'What languages do you speak?':{np.nan:'Prefer not to answer',\n",
    "                                           'English; Bi-lingual; Multi-lingual':'Multi-lingual',\n",
    "                                  }}, inplace = True)\n",
    "\n",
    "instructors['language'] = instructors.apply(lambda row: 1 if row['language'] == 'English' else 0, axis=1)\n",
    "instructors['language'].unique()"
   ]
  },
  {
   "cell_type": "markdown",
   "metadata": {},
   "source": [
    "Set motivation for all instructors to be 3.0 and populate motivation for participants from the reviewers"
   ]
  },
  {
   "cell_type": "code",
   "execution_count": 117,
   "metadata": {},
   "outputs": [
    {
     "data": {
      "text/plain": [
       "(61, 59)"
      ]
     },
     "execution_count": 117,
     "metadata": {},
     "output_type": "execute_result"
    }
   ],
   "source": [
    "participants.shape"
   ]
  },
  {
   "cell_type": "code",
   "execution_count": 118,
   "metadata": {},
   "outputs": [
    {
     "data": {
      "text/plain": [
       "(58, 2)"
      ]
     },
     "execution_count": 118,
     "metadata": {},
     "output_type": "execute_result"
    }
   ],
   "source": [
    "motivation.shape"
   ]
  },
  {
   "cell_type": "code",
   "execution_count": 52,
   "metadata": {},
   "outputs": [],
   "source": [
    "participants['seed'] = 0\n",
    "participants['motivation']=motivation['Motivation']\n",
    "participants['ID']=motivation['ID']\n",
    "\n",
    "instructors['seed'] = 1 \n",
    "instructors['motivation'] = 3\n",
    "\n",
    "#New participant without motivation score in table (post reading essays)\n",
    "#scored post review process\n",
    "participants.loc[58,'motivation']=3\n",
    "participants.loc[59,'motivation']=3\n",
    "participants.loc[60,'motivation']=3\n",
    "\n",
    "participants.loc[58,'ID']=58\n",
    "participants.loc[59,'ID']=59\n",
    "participants.loc[60,'ID']=60\n",
    "\n",
    "\n",
    "#participants who filled team organizer/instructor form\n",
    "instructors.loc[0,'seed']=0\n",
    "instructors.loc[4:5,'seed']=0\n",
    "instructors.loc[11,'seed']=0\n",
    "instructors['ID'] = instructors.index + 100\n"
   ]
  },
  {
   "cell_type": "markdown",
   "metadata": {},
   "source": [
    "### Process \"What Data have you analyzed (select all that apply)?\""
   ]
  },
  {
   "cell_type": "code",
   "execution_count": 55,
   "metadata": {},
   "outputs": [],
   "source": [
    "instructors['met_climate'] = 0\n",
    "instructors['snow_ice'] = 0\n",
    "instructors['alpine_forest'] = 0\n",
    "instructors['riv_streams'] = 0\n",
    "instructors['lake_wetlands'] = 0\n",
    "instructors['geo_sediment'] = 0\n",
    "instructors['quality_waste'] = 0\n",
    "instructors['extreme_event_disaster'] = 0\n",
    "instructors['urban'] = 0\n",
    "instructors['datasci_model_software'] = 0\n",
    "instructors['fish_aquatic'] = 0\n",
    "instructors['health'] = 0\n",
    "instructors['hydraulics'] = 0\n",
    "instructors['ocean'] = 0\n",
    "instructors['no_exp_yet'] = 0"
   ]
  },
  {
   "cell_type": "code",
   "execution_count": 56,
   "metadata": {},
   "outputs": [],
   "source": [
    "#create a mapping between column names and actual form responses\n",
    "data_analyzed_map = dict()\n",
    "data_analyzed_map[\"Meteorology & Climate\"] = \"met_climate\"\n",
    "data_analyzed_map[\"Snow & Ice\"] = \"snow_ice\"\n",
    "data_analyzed_map[\"Rivers & Streams\"] = \"riv_streams\"\n",
    "data_analyzed_map[\"Lakes & Wetlands\"] = \"lake_wetlands\"\n",
    "data_analyzed_map[\"Geomorphology & Sediment\"] = \"geo_sediment\"\n",
    "data_analyzed_map[\"Fish & Aquatic Species\"] = \"fish_aquatic\"\n",
    "data_analyzed_map[\"Alpine & Forested Environments\"] = \"alpine_forest\"\n",
    "data_analyzed_map[\"Urban Environments\"] = \"urban\"\n",
    "data_analyzed_map[\"Water Quality & Waste\"] = \"quality_waste\"\n",
    "data_analyzed_map[\"Extreme Events & Disaster\"] = \"extreme_event_disaster\"\n",
    "data_analyzed_map[\"Data Science & Modeling Software\"] = \"datasci_model_software\"\n",
    "data_analyzed_map[\"Population & Public Health Impacts\"] = \"health\"\n",
    "data_analyzed_map[\"Channel & Delta Hydraulics\"] = \"hydraulics\"\n",
    "data_analyzed_map[\"No Expertise\"] = \"no_exp_yet\""
   ]
  },
  {
   "cell_type": "code",
   "execution_count": 57,
   "metadata": {},
   "outputs": [],
   "source": [
    "participants['met_climate']=0\n",
    "participants['snow_ice']=0\n",
    "participants['alpine_forest']=0\n",
    "participants['riv_streams']=0\n",
    "participants['lake_wetlands']=0\n",
    "participants['geo_sediment']=0\n",
    "participants['quality_waste']=0\n",
    "participants['extreme_event_disaster']=0\n",
    "participants['urban']=0\n",
    "participants['datasci_model_software']=0\n",
    "participants['fish_aquatic']=0\n",
    "participants['health']=0\n",
    "participants['hydraulics']=0\n",
    "participants['no_exp_yet']=0"
   ]
  },
  {
   "cell_type": "code",
   "execution_count": 58,
   "metadata": {},
   "outputs": [],
   "source": [
    "def populate_data_analyzed_cols():\n",
    "    other_topics = set()\n",
    "    for i in range(len(participants)):\n",
    "        data_analyzed = participants.loc[i, \"What kind of data have you analyzed (check all relevant)?\"]\n",
    "        if pd.isnull(data_analyzed):\n",
    "            continue\n",
    "        split_data = data_analyzed.split(\";\")\n",
    "        for data in split_data:\n",
    "            data = data.strip()\n",
    "            if data in data_analyzed_map.keys():\n",
    "                participants.loc[i, data_analyzed_map[data]] = 1\n",
    "            else:\n",
    "                other_topics.add(data)\n",
    "    return other_topics"
   ]
  },
  {
   "cell_type": "code",
   "execution_count": 59,
   "metadata": {},
   "outputs": [
    {
     "data": {
      "text/plain": [
       "{'16S sequences and microbiome',\n",
       " 'Agriculture',\n",
       " 'Data from water utilities companies',\n",
       " 'Groundwater',\n",
       " 'Intertidal mangrove forests',\n",
       " 'No experience with freshwater data yet! Have experience with data from other fields.',\n",
       " 'No expertise',\n",
       " 'Ocean',\n",
       " 'Streamflow Prediction in Ungauged Basins',\n",
       " 'Water Use',\n",
       " 'hydrogeologic data'}"
      ]
     },
     "execution_count": 59,
     "metadata": {},
     "output_type": "execute_result"
    }
   ],
   "source": [
    "other_topics = populate_data_analyzed_cols()\n",
    "other_topics"
   ]
  },
  {
   "cell_type": "markdown",
   "metadata": {},
   "source": [
    "Concatenate participants and instructors in a single dataframe"
   ]
  },
  {
   "cell_type": "code",
   "execution_count": 60,
   "metadata": {},
   "outputs": [],
   "source": [
    "df1=participants[[\"ID\",\"USA\", \"atUW\", \"position\", \"gender\", \"lgbtq\", \"nonbin_trans\", \"race_ethnic\",\"color\", \"language\", \"met_climate\",'snow_ice','alpine_forest','riv_streams','lake_wetlands','geo_sediment','quality_waste', 'extreme_event_disaster','urban','datasci_model_software','fish_aquatic','health','hydraulics','no_exp_yet',\"seed\",\"motivation\"]]\n",
    "df2=instructors[[\"ID\",\"USA\", \"atUW\", \"position\", \"gender\", \"lgbtq\", \"nonbin_trans\", \"race_ethnic\", \"color\",\"language\", \"met_climate\",'snow_ice','alpine_forest','riv_streams','lake_wetlands','geo_sediment','quality_waste','extreme_event_disaster','urban', 'datasci_model_software','fish_aquatic','health','hydraulics','no_exp_yet',\"seed\",\"motivation\"]]"
   ]
  },
  {
   "cell_type": "code",
   "execution_count": 61,
   "metadata": {},
   "outputs": [],
   "source": [
    "cohort_all=pd.concat([df1,df2], ignore_index=True)"
   ]
  },
  {
   "cell_type": "code",
   "execution_count": 74,
   "metadata": {},
   "outputs": [],
   "source": [
    "cohort_all.to_csv(\"cohort_all.csv\")"
   ]
  }
 ],
 "metadata": {
  "kernelspec": {
   "display_name": "Python 3",
   "language": "python",
   "name": "python3"
  },
  "language_info": {
   "codemirror_mode": {
    "name": "ipython",
    "version": 3
   },
   "file_extension": ".py",
   "mimetype": "text/x-python",
   "name": "python",
   "nbconvert_exporter": "python",
   "pygments_lexer": "ipython3",
   "version": "3.7.4"
  }
 },
 "nbformat": 4,
 "nbformat_minor": 2
}
